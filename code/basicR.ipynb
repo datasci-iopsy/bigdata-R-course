{
 "cells": [
  {
   "cell_type": "code",
   "execution_count": 1,
   "metadata": {},
   "outputs": [
    {
     "name": "stderr",
     "output_type": "stream",
     "text": [
      "── \u001b[1mAttaching packages\u001b[22m ─────────────────────────────────────── tidyverse 1.2.1 ──\n",
      "\u001b[32m✔\u001b[39m \u001b[34mggplot2\u001b[39m 3.1.1     \u001b[32m✔\u001b[39m \u001b[34mpurrr  \u001b[39m 0.3.2\n",
      "\u001b[32m✔\u001b[39m \u001b[34mtibble \u001b[39m 2.1.1     \u001b[32m✔\u001b[39m \u001b[34mdplyr  \u001b[39m 0.8.1\n",
      "\u001b[32m✔\u001b[39m \u001b[34mtidyr  \u001b[39m 0.8.3     \u001b[32m✔\u001b[39m \u001b[34mstringr\u001b[39m 1.4.0\n",
      "\u001b[32m✔\u001b[39m \u001b[34mreadr  \u001b[39m 1.3.1     \u001b[32m✔\u001b[39m \u001b[34mforcats\u001b[39m 0.4.0\n",
      "── \u001b[1mConflicts\u001b[22m ────────────────────────────────────────── tidyverse_conflicts() ──\n",
      "\u001b[31m✖\u001b[39m \u001b[34mggplot2\u001b[39m::\u001b[32m%+%()\u001b[39m   masks \u001b[34mpsych\u001b[39m::%+%()\n",
      "\u001b[31m✖\u001b[39m \u001b[34mggplot2\u001b[39m::\u001b[32malpha()\u001b[39m masks \u001b[34mpsych\u001b[39m::alpha()\n",
      "\u001b[31m✖\u001b[39m \u001b[34mdplyr\u001b[39m::\u001b[32mfilter()\u001b[39m  masks \u001b[34mstats\u001b[39m::filter()\n",
      "\u001b[31m✖\u001b[39m \u001b[34mdplyr\u001b[39m::\u001b[32mlag()\u001b[39m     masks \u001b[34mstats\u001b[39m::lag()\n"
     ]
    }
   ],
   "source": [
    "library(psych)\n",
    "library(tidyverse)"
   ]
  },
  {
   "cell_type": "code",
   "execution_count": 7,
   "metadata": {},
   "outputs": [],
   "source": [
    "#read in the data\n",
    "df = read.csv(\"../data/example.dat\", header = T)"
   ]
  },
  {
   "cell_type": "code",
   "execution_count": 4,
   "metadata": {},
   "outputs": [],
   "source": [
    "#recode the reverse coded items\n",
    "df_recd = df %>%\n",
    "    mutate_at(vars(A1, A4:A6), list(~6 - .))"
   ]
  },
  {
   "cell_type": "code",
   "execution_count": 5,
   "metadata": {},
   "outputs": [
    {
     "data": {
      "text/html": [
       "<table>\n",
       "<caption>A data.frame: 10 × 12</caption>\n",
       "<thead>\n",
       "\t<tr><th scope=col>C1</th><th scope=col>C2</th><th scope=col>C3</th><th scope=col>C4</th><th scope=col>C5</th><th scope=col>C6</th><th scope=col>A1</th><th scope=col>A2</th><th scope=col>A3</th><th scope=col>A4</th><th scope=col>A5</th><th scope=col>A6</th></tr>\n",
       "\t<tr><th scope=col>&lt;int&gt;</th><th scope=col>&lt;int&gt;</th><th scope=col>&lt;int&gt;</th><th scope=col>&lt;int&gt;</th><th scope=col>&lt;int&gt;</th><th scope=col>&lt;int&gt;</th><th scope=col>&lt;int&gt;</th><th scope=col>&lt;int&gt;</th><th scope=col>&lt;int&gt;</th><th scope=col>&lt;int&gt;</th><th scope=col>&lt;int&gt;</th><th scope=col>&lt;int&gt;</th></tr>\n",
       "</thead>\n",
       "<tbody>\n",
       "\t<tr><td>3</td><td>2</td><td>4</td><td>4</td><td>4</td><td>4</td><td>4</td><td>4</td><td>3</td><td>2</td><td>2</td><td>2</td></tr>\n",
       "\t<tr><td>3</td><td>3</td><td>4</td><td>3</td><td>3</td><td>4</td><td>3</td><td>4</td><td>4</td><td>2</td><td>4</td><td>2</td></tr>\n",
       "\t<tr><td>4</td><td>2</td><td>2</td><td>2</td><td>4</td><td>2</td><td>2</td><td>4</td><td>4</td><td>2</td><td>2</td><td>2</td></tr>\n",
       "\t<tr><td>2</td><td>2</td><td>3</td><td>4</td><td>4</td><td>3</td><td>2</td><td>4</td><td>3</td><td>4</td><td>2</td><td>4</td></tr>\n",
       "\t<tr><td>4</td><td>2</td><td>4</td><td>1</td><td>2</td><td>4</td><td>1</td><td>4</td><td>4</td><td>3</td><td>3</td><td>1</td></tr>\n",
       "\t<tr><td>4</td><td>2</td><td>2</td><td>4</td><td>4</td><td>2</td><td>4</td><td>4</td><td>2</td><td>4</td><td>2</td><td>4</td></tr>\n",
       "\t<tr><td>4</td><td>2</td><td>4</td><td>4</td><td>4</td><td>2</td><td>3</td><td>4</td><td>4</td><td>2</td><td>2</td><td>2</td></tr>\n",
       "\t<tr><td>2</td><td>3</td><td>5</td><td>2</td><td>5</td><td>4</td><td>2</td><td>5</td><td>4</td><td>2</td><td>1</td><td>2</td></tr>\n",
       "\t<tr><td>4</td><td>4</td><td>4</td><td>1</td><td>2</td><td>4</td><td>2</td><td>4</td><td>4</td><td>2</td><td>2</td><td>2</td></tr>\n",
       "\t<tr><td>2</td><td>1</td><td>1</td><td>2</td><td>2</td><td>2</td><td>2</td><td>4</td><td>4</td><td>2</td><td>2</td><td>2</td></tr>\n",
       "</tbody>\n",
       "</table>\n"
      ],
      "text/latex": [
       "A data.frame: 10 × 12\n",
       "\\begin{tabular}{r|llllllllllll}\n",
       " C1 & C2 & C3 & C4 & C5 & C6 & A1 & A2 & A3 & A4 & A5 & A6\\\\\n",
       " <int> & <int> & <int> & <int> & <int> & <int> & <int> & <int> & <int> & <int> & <int> & <int>\\\\\n",
       "\\hline\n",
       "\t 3 & 2 & 4 & 4 & 4 & 4 & 4 & 4 & 3 & 2 & 2 & 2\\\\\n",
       "\t 3 & 3 & 4 & 3 & 3 & 4 & 3 & 4 & 4 & 2 & 4 & 2\\\\\n",
       "\t 4 & 2 & 2 & 2 & 4 & 2 & 2 & 4 & 4 & 2 & 2 & 2\\\\\n",
       "\t 2 & 2 & 3 & 4 & 4 & 3 & 2 & 4 & 3 & 4 & 2 & 4\\\\\n",
       "\t 4 & 2 & 4 & 1 & 2 & 4 & 1 & 4 & 4 & 3 & 3 & 1\\\\\n",
       "\t 4 & 2 & 2 & 4 & 4 & 2 & 4 & 4 & 2 & 4 & 2 & 4\\\\\n",
       "\t 4 & 2 & 4 & 4 & 4 & 2 & 3 & 4 & 4 & 2 & 2 & 2\\\\\n",
       "\t 2 & 3 & 5 & 2 & 5 & 4 & 2 & 5 & 4 & 2 & 1 & 2\\\\\n",
       "\t 4 & 4 & 4 & 1 & 2 & 4 & 2 & 4 & 4 & 2 & 2 & 2\\\\\n",
       "\t 2 & 1 & 1 & 2 & 2 & 2 & 2 & 4 & 4 & 2 & 2 & 2\\\\\n",
       "\\end{tabular}\n"
      ],
      "text/markdown": [
       "\n",
       "A data.frame: 10 × 12\n",
       "\n",
       "| C1 &lt;int&gt; | C2 &lt;int&gt; | C3 &lt;int&gt; | C4 &lt;int&gt; | C5 &lt;int&gt; | C6 &lt;int&gt; | A1 &lt;int&gt; | A2 &lt;int&gt; | A3 &lt;int&gt; | A4 &lt;int&gt; | A5 &lt;int&gt; | A6 &lt;int&gt; |\n",
       "|---|---|---|---|---|---|---|---|---|---|---|---|\n",
       "| 3 | 2 | 4 | 4 | 4 | 4 | 4 | 4 | 3 | 2 | 2 | 2 |\n",
       "| 3 | 3 | 4 | 3 | 3 | 4 | 3 | 4 | 4 | 2 | 4 | 2 |\n",
       "| 4 | 2 | 2 | 2 | 4 | 2 | 2 | 4 | 4 | 2 | 2 | 2 |\n",
       "| 2 | 2 | 3 | 4 | 4 | 3 | 2 | 4 | 3 | 4 | 2 | 4 |\n",
       "| 4 | 2 | 4 | 1 | 2 | 4 | 1 | 4 | 4 | 3 | 3 | 1 |\n",
       "| 4 | 2 | 2 | 4 | 4 | 2 | 4 | 4 | 2 | 4 | 2 | 4 |\n",
       "| 4 | 2 | 4 | 4 | 4 | 2 | 3 | 4 | 4 | 2 | 2 | 2 |\n",
       "| 2 | 3 | 5 | 2 | 5 | 4 | 2 | 5 | 4 | 2 | 1 | 2 |\n",
       "| 4 | 4 | 4 | 1 | 2 | 4 | 2 | 4 | 4 | 2 | 2 | 2 |\n",
       "| 2 | 1 | 1 | 2 | 2 | 2 | 2 | 4 | 4 | 2 | 2 | 2 |\n",
       "\n"
      ],
      "text/plain": [
       "   C1 C2 C3 C4 C5 C6 A1 A2 A3 A4 A5 A6\n",
       "1  3  2  4  4  4  4  4  4  3  2  2  2 \n",
       "2  3  3  4  3  3  4  3  4  4  2  4  2 \n",
       "3  4  2  2  2  4  2  2  4  4  2  2  2 \n",
       "4  2  2  3  4  4  3  2  4  3  4  2  4 \n",
       "5  4  2  4  1  2  4  1  4  4  3  3  1 \n",
       "6  4  2  2  4  4  2  4  4  2  4  2  4 \n",
       "7  4  2  4  4  4  2  3  4  4  2  2  2 \n",
       "8  2  3  5  2  5  4  2  5  4  2  1  2 \n",
       "9  4  4  4  1  2  4  2  4  4  2  2  2 \n",
       "10 2  1  1  2  2  2  2  4  4  2  2  2 "
      ]
     },
     "metadata": {},
     "output_type": "display_data"
    },
    {
     "data": {
      "text/html": [
       "<table>\n",
       "<caption>A data.frame: 10 × 12</caption>\n",
       "<thead>\n",
       "\t<tr><th scope=col>C1</th><th scope=col>C2</th><th scope=col>C3</th><th scope=col>C4</th><th scope=col>C5</th><th scope=col>C6</th><th scope=col>A1</th><th scope=col>A2</th><th scope=col>A3</th><th scope=col>A4</th><th scope=col>A5</th><th scope=col>A6</th></tr>\n",
       "\t<tr><th scope=col>&lt;int&gt;</th><th scope=col>&lt;int&gt;</th><th scope=col>&lt;int&gt;</th><th scope=col>&lt;int&gt;</th><th scope=col>&lt;int&gt;</th><th scope=col>&lt;int&gt;</th><th scope=col>&lt;dbl&gt;</th><th scope=col>&lt;int&gt;</th><th scope=col>&lt;int&gt;</th><th scope=col>&lt;dbl&gt;</th><th scope=col>&lt;dbl&gt;</th><th scope=col>&lt;dbl&gt;</th></tr>\n",
       "</thead>\n",
       "<tbody>\n",
       "\t<tr><td>3</td><td>2</td><td>4</td><td>4</td><td>4</td><td>4</td><td>2</td><td>4</td><td>3</td><td>4</td><td>4</td><td>4</td></tr>\n",
       "\t<tr><td>3</td><td>3</td><td>4</td><td>3</td><td>3</td><td>4</td><td>3</td><td>4</td><td>4</td><td>4</td><td>2</td><td>4</td></tr>\n",
       "\t<tr><td>4</td><td>2</td><td>2</td><td>2</td><td>4</td><td>2</td><td>4</td><td>4</td><td>4</td><td>4</td><td>4</td><td>4</td></tr>\n",
       "\t<tr><td>2</td><td>2</td><td>3</td><td>4</td><td>4</td><td>3</td><td>4</td><td>4</td><td>3</td><td>2</td><td>4</td><td>2</td></tr>\n",
       "\t<tr><td>4</td><td>2</td><td>4</td><td>1</td><td>2</td><td>4</td><td>5</td><td>4</td><td>4</td><td>3</td><td>3</td><td>5</td></tr>\n",
       "\t<tr><td>4</td><td>2</td><td>2</td><td>4</td><td>4</td><td>2</td><td>2</td><td>4</td><td>2</td><td>2</td><td>4</td><td>2</td></tr>\n",
       "\t<tr><td>4</td><td>2</td><td>4</td><td>4</td><td>4</td><td>2</td><td>3</td><td>4</td><td>4</td><td>4</td><td>4</td><td>4</td></tr>\n",
       "\t<tr><td>2</td><td>3</td><td>5</td><td>2</td><td>5</td><td>4</td><td>4</td><td>5</td><td>4</td><td>4</td><td>5</td><td>4</td></tr>\n",
       "\t<tr><td>4</td><td>4</td><td>4</td><td>1</td><td>2</td><td>4</td><td>4</td><td>4</td><td>4</td><td>4</td><td>4</td><td>4</td></tr>\n",
       "\t<tr><td>2</td><td>1</td><td>1</td><td>2</td><td>2</td><td>2</td><td>4</td><td>4</td><td>4</td><td>4</td><td>4</td><td>4</td></tr>\n",
       "</tbody>\n",
       "</table>\n"
      ],
      "text/latex": [
       "A data.frame: 10 × 12\n",
       "\\begin{tabular}{r|llllllllllll}\n",
       " C1 & C2 & C3 & C4 & C5 & C6 & A1 & A2 & A3 & A4 & A5 & A6\\\\\n",
       " <int> & <int> & <int> & <int> & <int> & <int> & <dbl> & <int> & <int> & <dbl> & <dbl> & <dbl>\\\\\n",
       "\\hline\n",
       "\t 3 & 2 & 4 & 4 & 4 & 4 & 2 & 4 & 3 & 4 & 4 & 4\\\\\n",
       "\t 3 & 3 & 4 & 3 & 3 & 4 & 3 & 4 & 4 & 4 & 2 & 4\\\\\n",
       "\t 4 & 2 & 2 & 2 & 4 & 2 & 4 & 4 & 4 & 4 & 4 & 4\\\\\n",
       "\t 2 & 2 & 3 & 4 & 4 & 3 & 4 & 4 & 3 & 2 & 4 & 2\\\\\n",
       "\t 4 & 2 & 4 & 1 & 2 & 4 & 5 & 4 & 4 & 3 & 3 & 5\\\\\n",
       "\t 4 & 2 & 2 & 4 & 4 & 2 & 2 & 4 & 2 & 2 & 4 & 2\\\\\n",
       "\t 4 & 2 & 4 & 4 & 4 & 2 & 3 & 4 & 4 & 4 & 4 & 4\\\\\n",
       "\t 2 & 3 & 5 & 2 & 5 & 4 & 4 & 5 & 4 & 4 & 5 & 4\\\\\n",
       "\t 4 & 4 & 4 & 1 & 2 & 4 & 4 & 4 & 4 & 4 & 4 & 4\\\\\n",
       "\t 2 & 1 & 1 & 2 & 2 & 2 & 4 & 4 & 4 & 4 & 4 & 4\\\\\n",
       "\\end{tabular}\n"
      ],
      "text/markdown": [
       "\n",
       "A data.frame: 10 × 12\n",
       "\n",
       "| C1 &lt;int&gt; | C2 &lt;int&gt; | C3 &lt;int&gt; | C4 &lt;int&gt; | C5 &lt;int&gt; | C6 &lt;int&gt; | A1 &lt;dbl&gt; | A2 &lt;int&gt; | A3 &lt;int&gt; | A4 &lt;dbl&gt; | A5 &lt;dbl&gt; | A6 &lt;dbl&gt; |\n",
       "|---|---|---|---|---|---|---|---|---|---|---|---|\n",
       "| 3 | 2 | 4 | 4 | 4 | 4 | 2 | 4 | 3 | 4 | 4 | 4 |\n",
       "| 3 | 3 | 4 | 3 | 3 | 4 | 3 | 4 | 4 | 4 | 2 | 4 |\n",
       "| 4 | 2 | 2 | 2 | 4 | 2 | 4 | 4 | 4 | 4 | 4 | 4 |\n",
       "| 2 | 2 | 3 | 4 | 4 | 3 | 4 | 4 | 3 | 2 | 4 | 2 |\n",
       "| 4 | 2 | 4 | 1 | 2 | 4 | 5 | 4 | 4 | 3 | 3 | 5 |\n",
       "| 4 | 2 | 2 | 4 | 4 | 2 | 2 | 4 | 2 | 2 | 4 | 2 |\n",
       "| 4 | 2 | 4 | 4 | 4 | 2 | 3 | 4 | 4 | 4 | 4 | 4 |\n",
       "| 2 | 3 | 5 | 2 | 5 | 4 | 4 | 5 | 4 | 4 | 5 | 4 |\n",
       "| 4 | 4 | 4 | 1 | 2 | 4 | 4 | 4 | 4 | 4 | 4 | 4 |\n",
       "| 2 | 1 | 1 | 2 | 2 | 2 | 4 | 4 | 4 | 4 | 4 | 4 |\n",
       "\n"
      ],
      "text/plain": [
       "   C1 C2 C3 C4 C5 C6 A1 A2 A3 A4 A5 A6\n",
       "1  3  2  4  4  4  4  2  4  3  4  4  4 \n",
       "2  3  3  4  3  3  4  3  4  4  4  2  4 \n",
       "3  4  2  2  2  4  2  4  4  4  4  4  4 \n",
       "4  2  2  3  4  4  3  4  4  3  2  4  2 \n",
       "5  4  2  4  1  2  4  5  4  4  3  3  5 \n",
       "6  4  2  2  4  4  2  2  4  2  2  4  2 \n",
       "7  4  2  4  4  4  2  3  4  4  4  4  4 \n",
       "8  2  3  5  2  5  4  4  5  4  4  5  4 \n",
       "9  4  4  4  1  2  4  4  4  4  4  4  4 \n",
       "10 2  1  1  2  2  2  4  4  4  4  4  4 "
      ]
     },
     "metadata": {},
     "output_type": "display_data"
    }
   ],
   "source": [
    "head(df, 10)\n",
    "head(df_recd, 10)"
   ]
  },
  {
   "cell_type": "code",
   "execution_count": 38,
   "metadata": {},
   "outputs": [
    {
     "name": "stdout",
     "output_type": "stream",
     "text": [
      "[1] \"Perfect timing!!\"\n"
     ]
    }
   ],
   "source": [
    "#lets try some if statements\n",
    "age = 25\n",
    "\n",
    "if (age < 25) {\n",
    "    print(\"Youngin'\")\n",
    "} else if (age > 25) {\n",
    "    print(\"Wise\")\n",
    "} else if (age == 25) {\n",
    "    print(\"Perfect timing!!\")\n",
    "} else {\n",
    "    print(\"Unborn\")\n",
    "}"
   ]
  },
  {
   "cell_type": "markdown",
   "metadata": {},
   "source": [
    "# Sampling Error of Correlations\n"
   ]
  },
  {
   "cell_type": "code",
   "execution_count": 39,
   "metadata": {},
   "outputs": [],
   "source": [
    "corrData = NULL #containing of correlations\n",
    "\n",
    "n = 50 \n",
    "for (i in 1:1000){\n",
    "    r1 = rnorm(mean = 0, sd = 1, n)\n",
    "    r2 = rnorm(mean = 0, sd = 1, n)\n",
    "    \n",
    "    c = cor(r1, r2)\n",
    "    #print(c)\n",
    "    \n",
    "    corrData = append(corrData, c)\n",
    "}"
   ]
  },
  {
   "cell_type": "code",
   "execution_count": 40,
   "metadata": {},
   "outputs": [
    {
     "data": {
      "text/html": [
       "<table>\n",
       "<caption>A psych: 1 × 13</caption>\n",
       "<thead>\n",
       "\t<tr><th></th><th scope=col>vars</th><th scope=col>n</th><th scope=col>mean</th><th scope=col>sd</th><th scope=col>median</th><th scope=col>trimmed</th><th scope=col>mad</th><th scope=col>min</th><th scope=col>max</th><th scope=col>range</th><th scope=col>skew</th><th scope=col>kurtosis</th><th scope=col>se</th></tr>\n",
       "\t<tr><th></th><th scope=col>&lt;dbl&gt;</th><th scope=col>&lt;dbl&gt;</th><th scope=col>&lt;dbl&gt;</th><th scope=col>&lt;dbl&gt;</th><th scope=col>&lt;dbl&gt;</th><th scope=col>&lt;dbl&gt;</th><th scope=col>&lt;dbl&gt;</th><th scope=col>&lt;dbl&gt;</th><th scope=col>&lt;dbl&gt;</th><th scope=col>&lt;dbl&gt;</th><th scope=col>&lt;dbl&gt;</th><th scope=col>&lt;dbl&gt;</th><th scope=col>&lt;dbl&gt;</th></tr>\n",
       "</thead>\n",
       "<tbody>\n",
       "\t<tr><th scope=row>X1</th><td>1</td><td>1000</td><td>0.003971263</td><td>0.1408262</td><td>-0.00114793</td><td>0.001755687</td><td>0.143558</td><td>-0.4459887</td><td>0.5037802</td><td>0.9497689</td><td>0.1152245</td><td>0.08580415</td><td>0.004453316</td></tr>\n",
       "</tbody>\n",
       "</table>\n"
      ],
      "text/latex": [
       "A psych: 1 × 13\n",
       "\\begin{tabular}{r|lllllllllllll}\n",
       "  & vars & n & mean & sd & median & trimmed & mad & min & max & range & skew & kurtosis & se\\\\\n",
       "  & <dbl> & <dbl> & <dbl> & <dbl> & <dbl> & <dbl> & <dbl> & <dbl> & <dbl> & <dbl> & <dbl> & <dbl> & <dbl>\\\\\n",
       "\\hline\n",
       "\tX1 & 1 & 1000 & 0.003971263 & 0.1408262 & -0.00114793 & 0.001755687 & 0.143558 & -0.4459887 & 0.5037802 & 0.9497689 & 0.1152245 & 0.08580415 & 0.004453316\\\\\n",
       "\\end{tabular}\n"
      ],
      "text/markdown": [
       "\n",
       "A psych: 1 × 13\n",
       "\n",
       "| <!--/--> | vars &lt;dbl&gt; | n &lt;dbl&gt; | mean &lt;dbl&gt; | sd &lt;dbl&gt; | median &lt;dbl&gt; | trimmed &lt;dbl&gt; | mad &lt;dbl&gt; | min &lt;dbl&gt; | max &lt;dbl&gt; | range &lt;dbl&gt; | skew &lt;dbl&gt; | kurtosis &lt;dbl&gt; | se &lt;dbl&gt; |\n",
       "|---|---|---|---|---|---|---|---|---|---|---|---|---|---|\n",
       "| X1 | 1 | 1000 | 0.003971263 | 0.1408262 | -0.00114793 | 0.001755687 | 0.143558 | -0.4459887 | 0.5037802 | 0.9497689 | 0.1152245 | 0.08580415 | 0.004453316 |\n",
       "\n"
      ],
      "text/plain": [
       "   vars n    mean        sd        median      trimmed     mad      min       \n",
       "X1 1    1000 0.003971263 0.1408262 -0.00114793 0.001755687 0.143558 -0.4459887\n",
       "   max       range     skew      kurtosis   se         \n",
       "X1 0.5037802 0.9497689 0.1152245 0.08580415 0.004453316"
      ]
     },
     "metadata": {},
     "output_type": "display_data"
    }
   ],
   "source": [
    "describe(corrData)"
   ]
  },
  {
   "cell_type": "code",
   "execution_count": 48,
   "metadata": {},
   "outputs": [
    {
     "data": {
      "image/png": "[encoded data removed]",
      "text/plain": [
       "Plot with title “Histogram of corrData”"
      ]
     },
     "metadata": {},
     "output_type": "display_data"
    }
   ],
   "source": [
    "hist(corrData)"
   ]
  },
  {
   "cell_type": "code",
   "execution_count": 45,
   "metadata": {},
   "outputs": [
    {
     "data": {
      "text/html": [
       "0.243629618273397"
      ],
      "text/latex": [
       "0.243629618273397"
      ],
      "text/markdown": [
       "0.243629618273397"
      ],
      "text/plain": [
       "[1] 0.2436296"
      ]
     },
     "metadata": {},
     "output_type": "display_data"
    }
   ],
   "source": [
    "#get critical value when rho = 0\n",
    "sorted = sort(corrData)\n",
    "my_position = length(sorted) * .95 #95th percentile position in array\n",
    "critical_value = sorted[my_position]; critical_value"
   ]
  },
  {
   "cell_type": "code",
   "execution_count": null,
   "metadata": {},
   "outputs": [],
   "source": []
  }
 ],
 "metadata": {
  "kernelspec": {
   "display_name": "R",
   "language": "R",
   "name": "ir"
  },
  "language_info": {
   "codemirror_mode": "r",
   "file_extension": ".r",
   "mimetype": "text/x-r-source",
   "name": "R",
   "pygments_lexer": "r",
   "version": "3.5.3"
  }
 },
 "nbformat": 4,
 "nbformat_minor": 2
}
